{
  "nbformat": 4,
  "nbformat_minor": 0,
  "metadata": {
    "colab": {
      "name": "Slicing.ipynb",
      "provenance": [],
      "authorship_tag": "ABX9TyNSnjudeZhm5gJ7c8RyVW7H",
      "include_colab_link": true
    },
    "kernelspec": {
      "name": "python3",
      "display_name": "Python 3"
    }
  },
  "cells": [
    {
      "cell_type": "markdown",
      "metadata": {
        "id": "view-in-github",
        "colab_type": "text"
      },
      "source": [
        "<a href=\"https://colab.research.google.com/github/pankaj-chhabra/collab/blob/master/Slicing.ipynb\" target=\"_parent\"><img src=\"https://colab.research.google.com/assets/colab-badge.svg\" alt=\"Open In Colab\"/></a>"
      ]
    },
    {
      "cell_type": "code",
      "metadata": {
        "id": "Ztkvi-_nlX56",
        "colab_type": "code",
        "colab": {
          "base_uri": "https://localhost:8080/",
          "height": 34
        },
        "outputId": "ad1cea87-96fc-4fd2-e184-b85c93ec6ff2"
      },
      "source": [
        "colors  = ['red', 'green', 'blue', 'yellow', 'white', 'black']\n",
        "print (colors[0])\n",
        "\n"
      ],
      "execution_count": 3,
      "outputs": [
        {
          "output_type": "stream",
          "text": [
            "red\n"
          ],
          "name": "stdout"
        }
      ]
    },
    {
      "cell_type": "code",
      "metadata": {
        "id": "E9iL-tVFl26D",
        "colab_type": "code",
        "colab": {
          "base_uri": "https://localhost:8080/",
          "height": 34
        },
        "outputId": "2ad325dc-b9f6-4edc-b7a0-418e4586875b"
      },
      "source": [
        "# Print black\n",
        "print (colors[-1])"
      ],
      "execution_count": 4,
      "outputs": [
        {
          "output_type": "stream",
          "text": [
            "black\n"
          ],
          "name": "stdout"
        }
      ]
    },
    {
      "cell_type": "code",
      "metadata": {
        "id": "7ieSabn7l9-C",
        "colab_type": "code",
        "colab": {
          "base_uri": "https://localhost:8080/",
          "height": 34
        },
        "outputId": "384fc8c0-7030-4f3a-cf57-067961064637"
      },
      "source": [
        "# Change array 0\n",
        "colors[0] = 'purple'\n",
        "print (colors)"
      ],
      "execution_count": 5,
      "outputs": [
        {
          "output_type": "stream",
          "text": [
            "['purple', 'green', 'blue', 'yellow', 'white', 'black']\n"
          ],
          "name": "stdout"
        }
      ]
    },
    {
      "cell_type": "code",
      "metadata": {
        "id": "d4j7-qfzmE90",
        "colab_type": "code",
        "colab": {
          "base_uri": "https://localhost:8080/",
          "height": 34
        },
        "outputId": "e8ae4bb7-57e1-40a6-ee69-cd4dda20e25e"
      },
      "source": [
        "# Delete from array\n",
        "del(colors[0])\n",
        "print(colors)"
      ],
      "execution_count": 7,
      "outputs": [
        {
          "output_type": "stream",
          "text": [
            "['green', 'blue', 'yellow', 'white', 'black']\n"
          ],
          "name": "stdout"
        }
      ]
    },
    {
      "cell_type": "code",
      "metadata": {
        "id": "ktoDbTUymYzo",
        "colab_type": "code",
        "colab": {
          "base_uri": "https://localhost:8080/",
          "height": 34
        },
        "outputId": "5864925c-41a4-49e9-d964-2e4af37210d1"
      },
      "source": [
        "# Slicing example\n",
        "nums = [10, 20, 30, 40, 50, 60, 70, 80, 90]\n",
        "sum_nums = nums[2:7]\n",
        "print(sum_nums)"
      ],
      "execution_count": 8,
      "outputs": [
        {
          "output_type": "stream",
          "text": [
            "[30, 40, 50, 60, 70]\n"
          ],
          "name": "stdout"
        }
      ]
    },
    {
      "cell_type": "code",
      "metadata": {
        "id": "4-rByvWPmm3u",
        "colab_type": "code",
        "colab": {
          "base_uri": "https://localhost:8080/",
          "height": 34
        },
        "outputId": "3be31bd8-ee99-4d47-c456-30b1e46c16a0"
      },
      "source": [
        "# Remaining \n",
        "first_five = nums[:5]\n",
        "print(first_five)"
      ],
      "execution_count": 9,
      "outputs": [
        {
          "output_type": "stream",
          "text": [
            "[10, 20, 30, 40, 50]\n"
          ],
          "name": "stdout"
        }
      ]
    },
    {
      "cell_type": "code",
      "metadata": {
        "id": "9VeEtTJunGBY",
        "colab_type": "code",
        "colab": {
          "base_uri": "https://localhost:8080/",
          "height": 34
        },
        "outputId": "7697d93b-ca1d-4d82-eb62-ae06796e4055"
      },
      "source": [
        "remaining = nums[5:]\n",
        "print(remaining)"
      ],
      "execution_count": 10,
      "outputs": [
        {
          "output_type": "stream",
          "text": [
            "[60, 70, 80, 90]\n"
          ],
          "name": "stdout"
        }
      ]
    }
  ]
}